{
  "nbformat": 4,
  "nbformat_minor": 0,
  "metadata": {
    "colab": {
      "name": "Facebook_profile_scraper_data_cleaning.ipynb",
      "provenance": [],
      "collapsed_sections": []
    },
    "kernelspec": {
      "name": "python3",
      "display_name": "Python 3"
    },
    "language_info": {
      "name": "python"
    }
  },
  "cells": [
    {
      "cell_type": "code",
      "execution_count": null,
      "metadata": {
        "id": "8AOkym4H8eDh"
      },
      "outputs": [],
      "source": [
        "!pip install facebook-scraper"
      ]
    },
    {
      "cell_type": "code",
      "source": [
        "# Import necessary libraries\n",
        "from facebook_scraper import get_profile\n",
        "import pandas as pd\n",
        "import matplotlib.pyplot as plt\n",
        "import seaborn as sns"
      ],
      "metadata": {
        "id": "cc9XCHm68pRM"
      },
      "execution_count": 4,
      "outputs": []
    },
    {
      "cell_type": "code",
      "source": [
        "# Initialize dataframe to scrape Facebook post\n",
        "pro_df_full = pd.DataFrame(columns = [])"
      ],
      "metadata": {
        "id": "aDSGMu9N8pUF"
      },
      "execution_count": 6,
      "outputs": []
    },
    {
      "cell_type": "code",
      "source": [
        "profile = get_profile(\"Shaon.ComputerGeek\", cookies=\"cookie.txt\")"
      ],
      "metadata": {
        "colab": {
          "base_uri": "https://localhost:8080/"
        },
        "id": "D9GZEjaq8pWU",
        "outputId": "2f771d70-f2e1-4e4a-ae98-87d07b5b27d1"
      },
      "execution_count": 8,
      "outputs": [
        {
          "output_type": "stream",
          "name": "stderr",
          "text": [
            "/usr/local/lib/python3.7/dist-packages/facebook_scraper/facebook_scraper.py:730: UserWarning: Facebook served mbasic/noscript content unexpectedly on https://m.facebook.com/timeline/app_collection/?collection_token=100006908916880%3A103382489711013%3A33&_rdr\n",
            "  f\"Facebook served mbasic/noscript content unexpectedly on {response.url}\"\n"
          ]
        }
      ]
    },
    {
      "cell_type": "code",
      "source": [
        "profile"
      ],
      "metadata": {
        "colab": {
          "base_uri": "https://localhost:8080/"
        },
        "id": "X1fhEXIDACqP",
        "outputId": "6b606da0-22ac-477a-fc3c-674937d60516"
      },
      "execution_count": 41,
      "outputs": [
        {
          "output_type": "execute_result",
          "data": {
            "text/plain": [
              "{'About': 'Aspiring Data Scientist\\nAI, Machine Learning learner\\nInformation and Communication Engineer',\n",
              " 'Basic info': 'Male\\nGender\\nEnglish language\\nLanguages',\n",
              " 'Contact info': '/Shaon.ComputerGeek\\nFacebook\\nShaon.ComputerGeek\\nInstagram\\nShaon2221\\nTwitter\\nShaon2221\\nGitHub\\nShaonComputerGeek\\nLinkedIn',\n",
              " 'Family members': 'Shuvajit Mondal\\nBrother\\nসৌরভ বিশ্বাস\\nBrother\\nProtoyni Islam Piu\\nSister\\nমমো শিকদার\\nSister\\nSusmita Shikder\\nSister\\nLipika Mondal\\nMother\\nShankar Kumar Sikder\\nFather',\n",
              " 'Favorite quotes': '\"Your deeds are your monuments.\"\\n-R.J. Palacio\\n\\n\"Success is No Accident . It is Hard Work , Perseverance , Learning, Studying , Sacrifice and most of all, Love of What you are Doing .\"\\n- Pele\\n\\n“When given the choice between being right and being kind, choose kind.”\\n-Dr. Wayne Dyer\\n\\n\"Everyone in the world should get a standing ovation at least once in their life because we all overcome the world.\"\\n-Auggie',\n",
              " 'Follower_count': 1241,\n",
              " 'Following_count': None,\n",
              " 'Friend_count': None,\n",
              " 'Life events': '2020\\nLeft Job at East West University Telecommunications Club\\n2019\\nLeft Job at East West University Robotics Club\\n2018\\nStarted New Job at East West University Robotics Club\\n2016\\nStarted New Job at East West University Telecommunications Club\\n2015\\nMoved to Dhaka, Bangladesh',\n",
              " 'Name': 'Shaon Sikder',\n",
              " 'Name Pronunciation': 'Shaown Shikdar',\n",
              " 'Other names': {'Other': 'シャノン'},\n",
              " 'Places lived': [{'link': '/100006908916880/posts/1826074327632847/',\n",
              "   'text': 'Dhaka, Bangladesh',\n",
              "   'type': 'Current City'},\n",
              "  {'link': '/profile.php?id=115636228449932',\n",
              "   'text': 'Barisal',\n",
              "   'type': 'Hometown'}],\n",
              " 'Relationship': 'Single',\n",
              " 'Work': 'Adspl Tech\\nArtificial Intelligence Engineer\\nGwalior, Rajasthan, India\\nLong way to go⏩\\nAcme AI\\nManagement Trainee\\nJanuary 2021 - June 2021\\nEast West University Robotics Club\\nGeneral Member\\nSeptember 2018 - September 2019\\nDhaka, Bangladesh\\nEast West University Telecommunications Club\\nVolunteer\\nJune 2016 - June 2020\\nDhaka, Bangladesh',\n",
              " 'cover_photo': 'https://scontent-iad3-2.xx.fbcdn.net/v/t31.18172-8/fr/cp0/e15/q65/19702795_1911955782378034_1963360683226968798_o.jpg?_nc_cat=110&ccb=1-5&_nc_sid=dd9801&efg=eyJpIjoidCJ9&_nc_ohc=BICIagRGiZYAX8Y1YgO&_nc_ht=scontent-iad3-2.xx&oh=00_AT_5zE3cfXkc-beFkimEG01rhOjC5bEPLf-LbMVifWuUcA&oe=62128DDB&manual_redirect=1',\n",
              " 'cover_photo_text': \"Cover Photo: Shaon Sikder's photo.\",\n",
              " 'id': '100006908916880',\n",
              " 'profile_picture': None}"
            ]
          },
          "metadata": {},
          "execution_count": 41
        }
      ]
    },
    {
      "cell_type": "code",
      "source": [
        "fb_pro_df = pd.DataFrame.from_dict(profile, orient='index')\n",
        "fb_pro_df = fb_pro_df.transpose()\n",
        "pro_df_full = post_df_full.append(fb_pro_df)"
      ],
      "metadata": {
        "id": "pSG47dof-44L"
      },
      "execution_count": 36,
      "outputs": []
    },
    {
      "cell_type": "code",
      "source": [
        "pro_df_full.info()"
      ],
      "metadata": {
        "colab": {
          "base_uri": "https://localhost:8080/"
        },
        "id": "sI6EDZ_u_Xp1",
        "outputId": "6f52eb3c-6004-4c2f-b096-3bb6ee38e751"
      },
      "execution_count": 37,
      "outputs": [
        {
          "output_type": "stream",
          "name": "stdout",
          "text": [
            "<class 'pandas.core.frame.DataFrame'>\n",
            "RangeIndex: 1 entries, 0 to 0\n",
            "Data columns (total 19 columns):\n",
            " #   Column              Non-Null Count  Dtype \n",
            "---  ------              --------------  ----- \n",
            " 0   Friend_count        0 non-null      object\n",
            " 1   Follower_count      1 non-null      object\n",
            " 2   Following_count     0 non-null      object\n",
            " 3   cover_photo_text    1 non-null      object\n",
            " 4   cover_photo         1 non-null      object\n",
            " 5   profile_picture     0 non-null      object\n",
            " 6   id                  1 non-null      object\n",
            " 7   Name                1 non-null      object\n",
            " 8   Work                1 non-null      object\n",
            " 9   Places lived        1 non-null      object\n",
            " 10  Contact info        1 non-null      object\n",
            " 11  Basic info          1 non-null      object\n",
            " 12  Name Pronunciation  1 non-null      object\n",
            " 13  Other names         1 non-null      object\n",
            " 14  Relationship        1 non-null      object\n",
            " 15  Family members      1 non-null      object\n",
            " 16  About               1 non-null      object\n",
            " 17  Life events         1 non-null      object\n",
            " 18  Favorite quotes     1 non-null      object\n",
            "dtypes: object(19)\n",
            "memory usage: 280.0+ bytes\n"
          ]
        }
      ]
    },
    {
      "cell_type": "code",
      "source": [
        "pro_df_full.head(50)"
      ],
      "metadata": {
        "colab": {
          "base_uri": "https://localhost:8080/",
          "height": 232
        },
        "id": "QNybINW1_h4k",
        "outputId": "b84dfd64-a4da-4476-ea0c-71611ca396cf"
      },
      "execution_count": 38,
      "outputs": [
        {
          "output_type": "execute_result",
          "data": {
            "text/html": [
              "\n",
              "  <div id=\"df-dbe259fd-581d-48a2-9f09-a6bb43456121\">\n",
              "    <div class=\"colab-df-container\">\n",
              "      <div>\n",
              "<style scoped>\n",
              "    .dataframe tbody tr th:only-of-type {\n",
              "        vertical-align: middle;\n",
              "    }\n",
              "\n",
              "    .dataframe tbody tr th {\n",
              "        vertical-align: top;\n",
              "    }\n",
              "\n",
              "    .dataframe thead th {\n",
              "        text-align: right;\n",
              "    }\n",
              "</style>\n",
              "<table border=\"1\" class=\"dataframe\">\n",
              "  <thead>\n",
              "    <tr style=\"text-align: right;\">\n",
              "      <th></th>\n",
              "      <th>Friend_count</th>\n",
              "      <th>Follower_count</th>\n",
              "      <th>Following_count</th>\n",
              "      <th>cover_photo_text</th>\n",
              "      <th>cover_photo</th>\n",
              "      <th>profile_picture</th>\n",
              "      <th>id</th>\n",
              "      <th>Name</th>\n",
              "      <th>Work</th>\n",
              "      <th>Places lived</th>\n",
              "      <th>Contact info</th>\n",
              "      <th>Basic info</th>\n",
              "      <th>Name Pronunciation</th>\n",
              "      <th>Other names</th>\n",
              "      <th>Relationship</th>\n",
              "      <th>Family members</th>\n",
              "      <th>About</th>\n",
              "      <th>Life events</th>\n",
              "      <th>Favorite quotes</th>\n",
              "    </tr>\n",
              "  </thead>\n",
              "  <tbody>\n",
              "    <tr>\n",
              "      <th>0</th>\n",
              "      <td>None</td>\n",
              "      <td>1241</td>\n",
              "      <td>None</td>\n",
              "      <td>Cover Photo: Shaon Sikder's photo.</td>\n",
              "      <td>https://scontent-iad3-2.xx.fbcdn.net/v/t31.181...</td>\n",
              "      <td>None</td>\n",
              "      <td>100006908916880</td>\n",
              "      <td>Shaon Sikder</td>\n",
              "      <td>Adspl Tech\\nArtificial Intelligence Engineer\\n...</td>\n",
              "      <td>[{'link': '/100006908916880/posts/182607432763...</td>\n",
              "      <td>/Shaon.ComputerGeek\\nFacebook\\nShaon.ComputerG...</td>\n",
              "      <td>Male\\nGender\\nEnglish language\\nLanguages</td>\n",
              "      <td>Shaown Shikdar</td>\n",
              "      <td>{'Other': 'シャノン'}</td>\n",
              "      <td>Single</td>\n",
              "      <td>Shuvajit Mondal\\nBrother\\nসৌরভ বিশ্বাস\\nBrothe...</td>\n",
              "      <td>Aspiring Data Scientist\\nAI, Machine Learning ...</td>\n",
              "      <td>2020\\nLeft Job at East West University Telecom...</td>\n",
              "      <td>\"Your deeds are your monuments.\"\\n-R.J. Palaci...</td>\n",
              "    </tr>\n",
              "  </tbody>\n",
              "</table>\n",
              "</div>\n",
              "      <button class=\"colab-df-convert\" onclick=\"convertToInteractive('df-dbe259fd-581d-48a2-9f09-a6bb43456121')\"\n",
              "              title=\"Convert this dataframe to an interactive table.\"\n",
              "              style=\"display:none;\">\n",
              "        \n",
              "  <svg xmlns=\"http://www.w3.org/2000/svg\" height=\"24px\"viewBox=\"0 0 24 24\"\n",
              "       width=\"24px\">\n",
              "    <path d=\"M0 0h24v24H0V0z\" fill=\"none\"/>\n",
              "    <path d=\"M18.56 5.44l.94 2.06.94-2.06 2.06-.94-2.06-.94-.94-2.06-.94 2.06-2.06.94zm-11 1L8.5 8.5l.94-2.06 2.06-.94-2.06-.94L8.5 2.5l-.94 2.06-2.06.94zm10 10l.94 2.06.94-2.06 2.06-.94-2.06-.94-.94-2.06-.94 2.06-2.06.94z\"/><path d=\"M17.41 7.96l-1.37-1.37c-.4-.4-.92-.59-1.43-.59-.52 0-1.04.2-1.43.59L10.3 9.45l-7.72 7.72c-.78.78-.78 2.05 0 2.83L4 21.41c.39.39.9.59 1.41.59.51 0 1.02-.2 1.41-.59l7.78-7.78 2.81-2.81c.8-.78.8-2.07 0-2.86zM5.41 20L4 18.59l7.72-7.72 1.47 1.35L5.41 20z\"/>\n",
              "  </svg>\n",
              "      </button>\n",
              "      \n",
              "  <style>\n",
              "    .colab-df-container {\n",
              "      display:flex;\n",
              "      flex-wrap:wrap;\n",
              "      gap: 12px;\n",
              "    }\n",
              "\n",
              "    .colab-df-convert {\n",
              "      background-color: #E8F0FE;\n",
              "      border: none;\n",
              "      border-radius: 50%;\n",
              "      cursor: pointer;\n",
              "      display: none;\n",
              "      fill: #1967D2;\n",
              "      height: 32px;\n",
              "      padding: 0 0 0 0;\n",
              "      width: 32px;\n",
              "    }\n",
              "\n",
              "    .colab-df-convert:hover {\n",
              "      background-color: #E2EBFA;\n",
              "      box-shadow: 0px 1px 2px rgba(60, 64, 67, 0.3), 0px 1px 3px 1px rgba(60, 64, 67, 0.15);\n",
              "      fill: #174EA6;\n",
              "    }\n",
              "\n",
              "    [theme=dark] .colab-df-convert {\n",
              "      background-color: #3B4455;\n",
              "      fill: #D2E3FC;\n",
              "    }\n",
              "\n",
              "    [theme=dark] .colab-df-convert:hover {\n",
              "      background-color: #434B5C;\n",
              "      box-shadow: 0px 1px 3px 1px rgba(0, 0, 0, 0.15);\n",
              "      filter: drop-shadow(0px 1px 2px rgba(0, 0, 0, 0.3));\n",
              "      fill: #FFFFFF;\n",
              "    }\n",
              "  </style>\n",
              "\n",
              "      <script>\n",
              "        const buttonEl =\n",
              "          document.querySelector('#df-dbe259fd-581d-48a2-9f09-a6bb43456121 button.colab-df-convert');\n",
              "        buttonEl.style.display =\n",
              "          google.colab.kernel.accessAllowed ? 'block' : 'none';\n",
              "\n",
              "        async function convertToInteractive(key) {\n",
              "          const element = document.querySelector('#df-dbe259fd-581d-48a2-9f09-a6bb43456121');\n",
              "          const dataTable =\n",
              "            await google.colab.kernel.invokeFunction('convertToInteractive',\n",
              "                                                     [key], {});\n",
              "          if (!dataTable) return;\n",
              "\n",
              "          const docLinkHtml = 'Like what you see? Visit the ' +\n",
              "            '<a target=\"_blank\" href=https://colab.research.google.com/notebooks/data_table.ipynb>data table notebook</a>'\n",
              "            + ' to learn more about interactive tables.';\n",
              "          element.innerHTML = '';\n",
              "          dataTable['output_type'] = 'display_data';\n",
              "          await google.colab.output.renderOutput(dataTable, element);\n",
              "          const docLink = document.createElement('div');\n",
              "          docLink.innerHTML = docLinkHtml;\n",
              "          element.appendChild(docLink);\n",
              "        }\n",
              "      </script>\n",
              "    </div>\n",
              "  </div>\n",
              "  "
            ],
            "text/plain": [
              "  Friend_count  ...                                    Favorite quotes\n",
              "0         None  ...  \"Your deeds are your monuments.\"\\n-R.J. Palaci...\n",
              "\n",
              "[1 rows x 19 columns]"
            ]
          },
          "metadata": {},
          "execution_count": 38
        }
      ]
    },
    {
      "cell_type": "code",
      "source": [
        "pro_df_full.to_csv(r'fb_pro_scrapped_data.csv')"
      ],
      "metadata": {
        "id": "uLeWymmM_iLb"
      },
      "execution_count": 39,
      "outputs": []
    }
  ]
}