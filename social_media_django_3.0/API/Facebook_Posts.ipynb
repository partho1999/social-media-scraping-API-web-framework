{
 "cells": [
  {
   "cell_type": "code",
   "execution_count": 33,
   "metadata": {},
   "outputs": [
    {
     "name": "stderr",
     "output_type": "stream",
     "text": [
      "C:\\Users\\Opus\\AppData\\Local\\Temp\\ipykernel_4132\\1501669623.py:34: DeprecationWarning: executable_path has been deprecated, please pass in a Service object\n",
      "  browser = webdriver.Chrome(executable_path=\"chromedriver.exe\", options=option)\n"
     ]
    }
   ],
   "source": [
    "from selenium import webdriver\n",
    "from selenium.webdriver.chrome.options import Options\n",
    "from bs4 import BeautifulSoup as bs\n",
    "from selenium.webdriver.support.ui import WebDriverWait\n",
    "from selenium.webdriver.support import expected_conditions as EC\n",
    "from selenium.webdriver.common.by import By\n",
    "from selenium.webdriver.common.keys import Keys\n",
    "from selenium.webdriver.common.action_chains import ActionChains\n",
    "\n",
    "# other necessary ones\n",
    "import urllib.request\n",
    "from bs4 import BeautifulSoup\n",
    "import pandas as pd\n",
    "import json\n",
    "import time\n",
    "import re\n",
    "import datetime\n",
    "import requests\n",
    "\n",
    "\n",
    "# set options as you wish\n",
    "option = Options()\n",
    "option.add_argument(\"--disable-infobars\")\n",
    "option.add_argument(\"start-maximized\")\n",
    "option.add_argument(\"--disable-extensions\")\n",
    "\n",
    "with open('facebook_credentials.txt') as file:\n",
    "    EMAIL = file.readline().split('\"')[1]\n",
    "    PASSWORD = file.readline().split('\"')[1]\n",
    "  \n",
    "\n",
    "#print(PASSWORD)\n",
    "    \n",
    "browser = webdriver.Chrome(executable_path=\"chromedriver.exe\", options=option)\n",
    "browser.get(\"http://facebook.com\")\n",
    "browser.maximize_window()\n",
    "wait = WebDriverWait(browser, 30)\n",
    "email_field = wait.until(EC.visibility_of_element_located((By.NAME, 'email')))\n",
    "email_field.send_keys(EMAIL)\n",
    "pass_field = wait.until(EC.visibility_of_element_located((By.NAME, 'pass')))\n",
    "pass_field.send_keys(PASSWORD)\n",
    "pass_field.send_keys(Keys.RETURN)\n",
    "\n",
    "time.sleep(5)\n",
    "\n",
    "text=\"opus technology\"\n",
    "\n",
    "browser.get('https://www.facebook.com/search/posts/?q='+ text) # once logged in, free to open up any target page\n",
    "\n",
    "time.sleep(5)\n",
    "\n",
    "#scroll down\n",
    "#increase the range to sroll more\n",
    "#example: range(0,10) scrolls down 650+ images\n",
    "for j in range(0,10):\n",
    "    browser.execute_script(\"window.scrollTo(0, document.body.scrollHeight);\")\n",
    "    time.sleep(5)\n",
    "\n",
    "time.sleep(5)\n"
   ]
  },
  {
   "cell_type": "code",
   "execution_count": 35,
   "metadata": {},
   "outputs": [],
   "source": [
    "soup=BeautifulSoup(browser.page_source,\"html.parser\")\n",
    "posts=soup.find_all(\"div\",{\"class\":\"du4w35lb l9j0dhe7\"})"
   ]
  },
  {
   "cell_type": "code",
   "execution_count": 70,
   "metadata": {},
   "outputs": [],
   "source": [
    "linklst=[]\n",
    "for post in posts:\n",
    "    links=post.find_all('a')\n",
    "    tmplnklst=[]\n",
    "    for link in links:\n",
    "        tmplnklst.append(link.attrs['href'])\n",
    "    linklst.append(tmplnklst)"
   ]
  },
  {
   "cell_type": "markdown",
   "metadata": {},
   "source": []
  },
  {
   "cell_type": "code",
   "execution_count": 71,
   "metadata": {},
   "outputs": [
    {
     "data": {
      "text/plain": [
       "37"
      ]
     },
     "execution_count": 71,
     "metadata": {},
     "output_type": "execute_result"
    }
   ],
   "source": [
    "postlst=[]\n",
    "for post in posts:\n",
    "    postlst.append(post.text)"
   ]
  },
  {
   "cell_type": "code",
   "execution_count": 74,
   "metadata": {},
   "outputs": [
    {
     "data": {
      "text/plain": [
       "['https://www.facebook.com/media/set/?vanity=opustechnologylimited&set=a.436255981557902&__cft__[0]=AZUUCB7c5IFWxJbz14ddjPkHVPIkJj6evx_LsedUR0wOB7JhYhLRFCI-X-UWhXPRLvNM2T7Mt_Fm3Yf8Utl72uq483WoLym4Ql91nT-5faeL5QCc9xKR_lMeMrV7WWAHFac&__tn__=-R',\n",
       " 'https://www.facebook.com/opustechnologylimited?__cft__[0]=AZUUCB7c5IFWxJbz14ddjPkHVPIkJj6evx_LsedUR0wOB7JhYhLRFCI-X-UWhXPRLvNM2T7Mt_Fm3Yf8Utl72uq483WoLym4Ql91nT-5faeL5QCc9xKR_lMeMrV7WWAHFac&__tn__=%3C%2CP-R',\n",
       " 'https://www.facebook.com/opustechnologylimited?__cft__[0]=AZUUCB7c5IFWxJbz14ddjPkHVPIkJj6evx_LsedUR0wOB7JhYhLRFCI-X-UWhXPRLvNM2T7Mt_Fm3Yf8Utl72uq483WoLym4Ql91nT-5faeL5QCc9xKR_lMeMrV7WWAHFac&__tn__=%3C%3C%2CP-R',\n",
       " 'https://www.facebook.com/opustechnologylimited?__cft__[0]=AZUUCB7c5IFWxJbz14ddjPkHVPIkJj6evx_LsedUR0wOB7JhYhLRFCI-X-UWhXPRLvNM2T7Mt_Fm3Yf8Utl72uq483WoLym4Ql91nT-5faeL5QCc9xKR_lMeMrV7WWAHFac&__tn__=-]C%2CP-R',\n",
       " '#',\n",
       " 'https://www.facebook.com/photo/?fbid=436255108224656&set=pcb.436255991557901&__cft__[0]=AZUUCB7c5IFWxJbz14ddjPkHVPIkJj6evx_LsedUR0wOB7JhYhLRFCI-X-UWhXPRLvNM2T7Mt_Fm3Yf8Utl72uq483WoLym4Ql91nT-5faeL5QCc9xKR_lMeMrV7WWAHFac&__tn__=*bH-R',\n",
       " 'https://www.facebook.com/photo/?fbid=436255061557994&set=pcb.436255991557901&__cft__[0]=AZUUCB7c5IFWxJbz14ddjPkHVPIkJj6evx_LsedUR0wOB7JhYhLRFCI-X-UWhXPRLvNM2T7Mt_Fm3Yf8Utl72uq483WoLym4Ql91nT-5faeL5QCc9xKR_lMeMrV7WWAHFac&__tn__=*bH-R',\n",
       " 'https://www.facebook.com/photo/?fbid=436254984891335&set=pcb.436255991557901&__cft__[0]=AZUUCB7c5IFWxJbz14ddjPkHVPIkJj6evx_LsedUR0wOB7JhYhLRFCI-X-UWhXPRLvNM2T7Mt_Fm3Yf8Utl72uq483WoLym4Ql91nT-5faeL5QCc9xKR_lMeMrV7WWAHFac&__tn__=*bH-R',\n",
       " 'https://www.facebook.com/photo/?fbid=436254991558001&set=pcb.436255991557901&__cft__[0]=AZUUCB7c5IFWxJbz14ddjPkHVPIkJj6evx_LsedUR0wOB7JhYhLRFCI-X-UWhXPRLvNM2T7Mt_Fm3Yf8Utl72uq483WoLym4Ql91nT-5faeL5QCc9xKR_lMeMrV7WWAHFac&__tn__=*bH-R',\n",
       " 'https://www.facebook.com/photo/?fbid=436255031557997&set=pcb.436255991557901&__cft__[0]=AZUUCB7c5IFWxJbz14ddjPkHVPIkJj6evx_LsedUR0wOB7JhYhLRFCI-X-UWhXPRLvNM2T7Mt_Fm3Yf8Utl72uq483WoLym4Ql91nT-5faeL5QCc9xKR_lMeMrV7WWAHFac&__tn__=*bH-R']"
      ]
     },
     "execution_count": 74,
     "metadata": {},
     "output_type": "execute_result"
    }
   ],
   "source": [
    "linklst[1]"
   ]
  },
  {
   "cell_type": "code",
   "execution_count": 72,
   "metadata": {},
   "outputs": [
    {
     "data": {
      "text/plain": [
       "37"
      ]
     },
     "execution_count": 72,
     "metadata": {},
     "output_type": "execute_result"
    }
   ],
   "source": [
    "len(posts)"
   ]
  },
  {
   "cell_type": "code",
   "execution_count": 68,
   "metadata": {},
   "outputs": [
    {
     "data": {
      "text/plain": [
       "'/groups/2081362125494526/user/100006908916880/?__cft__[0]=AZUXshVJpQao3zAla-orpaSsTuQU0tLJR9dK1jQ1cy-7IvP54X97v-zssDi-UDIeLU0V-GdOK0fA3DXbtmDXNHN5vcEx6IUkRe-f-He0J8j4BB9Uyy9XOHcAcz4XMhkIqjw&__tn__=%3C%2CP-R'"
      ]
     },
     "execution_count": 68,
     "metadata": {},
     "output_type": "execute_result"
    }
   ],
   "source": [
    "posts[0].find_all('a')[0].attrs['href']"
   ]
  },
  {
   "cell_type": "code",
   "execution_count": 66,
   "metadata": {},
   "outputs": [],
   "source": [
    "for post in posts:\n",
    "    if post.has_attr('href'):\n",
    "        print(post['href'])"
   ]
  },
  {
   "cell_type": "code",
   "execution_count": 47,
   "metadata": {},
   "outputs": [
    {
     "ename": "TypeError",
     "evalue": "'NoneType' object is not callable",
     "output_type": "error",
     "traceback": [
      "\u001b[1;31m---------------------------------------------------------------------------\u001b[0m",
      "\u001b[1;31mTypeError\u001b[0m                                 Traceback (most recent call last)",
      "\u001b[1;32md:\\2022-works\\Social Media\\Facebook_Posts.ipynb Cell 4'\u001b[0m in \u001b[0;36m<module>\u001b[1;34m\u001b[0m\n\u001b[1;32m----> <a href='vscode-notebook-cell:/d%3A/2022-works/Social%20Media/Facebook_Posts.ipynb#ch0000014?line=0'>1</a>\u001b[0m soup\u001b[39m=\u001b[39mBeautifulSoup(posts[\u001b[39m5\u001b[39;49m],\u001b[39m\"\u001b[39;49m\u001b[39mhtml.parser\u001b[39;49m\u001b[39m\"\u001b[39;49m)\n\u001b[0;32m      <a href='vscode-notebook-cell:/d%3A/2022-works/Social%20Media/Facebook_Posts.ipynb#ch0000014?line=1'>2</a>\u001b[0m soup\u001b[39m.\u001b[39mfind_all(\u001b[39m\"\u001b[39m\u001b[39mdiv\u001b[39m\u001b[39m\"\u001b[39m,{\u001b[39m\"\u001b[39m\u001b[39mclass\u001b[39m\u001b[39m\"\u001b[39m:\u001b[39m\"\u001b[39m\u001b[39moajrlxb2 g5ia77u1 qu0x051f esr5mh6w e9989ue4 r7d6kgcz rq0escxv nhd2j8a9 nc684nl6 p7hjln8o kvgmc6g5 cxmmr5t8 oygrvhab hcukyx3x jb3vyjys rz4wbd8a qt6c0cv9 a8nywdso i1ao9s8h esuyzwwr f1sip0of lzcic4wl gpro0wi8 oo9gr5id lrazzd5p\u001b[39m\u001b[39m\"\u001b[39m})\n",
      "File \u001b[1;32mc:\\Users\\Opus\\AppData\\Local\\Programs\\Python\\Python39\\lib\\site-packages\\bs4\\__init__.py:286\u001b[0m, in \u001b[0;36mBeautifulSoup.__init__\u001b[1;34m(self, markup, features, builder, parse_only, from_encoding, exclude_encodings, element_classes, **kwargs)\u001b[0m\n\u001b[0;32m    <a href='file:///c%3A/Users/Opus/AppData/Local/Programs/Python/Python39/lib/site-packages/bs4/__init__.py?line=282'>283</a>\u001b[0m \u001b[39mself\u001b[39m\u001b[39m.\u001b[39mbuilder\u001b[39m.\u001b[39minitialize_soup(\u001b[39mself\u001b[39m)\n\u001b[0;32m    <a href='file:///c%3A/Users/Opus/AppData/Local/Programs/Python/Python39/lib/site-packages/bs4/__init__.py?line=284'>285</a>\u001b[0m \u001b[39mif\u001b[39;00m \u001b[39mhasattr\u001b[39m(markup, \u001b[39m'\u001b[39m\u001b[39mread\u001b[39m\u001b[39m'\u001b[39m):        \u001b[39m# It's a file-type object.\u001b[39;00m\n\u001b[1;32m--> <a href='file:///c%3A/Users/Opus/AppData/Local/Programs/Python/Python39/lib/site-packages/bs4/__init__.py?line=285'>286</a>\u001b[0m     markup \u001b[39m=\u001b[39m markup\u001b[39m.\u001b[39;49mread()\n\u001b[0;32m    <a href='file:///c%3A/Users/Opus/AppData/Local/Programs/Python/Python39/lib/site-packages/bs4/__init__.py?line=286'>287</a>\u001b[0m \u001b[39melif\u001b[39;00m \u001b[39mlen\u001b[39m(markup) \u001b[39m<\u001b[39m\u001b[39m=\u001b[39m \u001b[39m256\u001b[39m \u001b[39mand\u001b[39;00m (\n\u001b[0;32m    <a href='file:///c%3A/Users/Opus/AppData/Local/Programs/Python/Python39/lib/site-packages/bs4/__init__.py?line=287'>288</a>\u001b[0m         (\u001b[39misinstance\u001b[39m(markup, \u001b[39mbytes\u001b[39m) \u001b[39mand\u001b[39;00m \u001b[39mnot\u001b[39;00m \u001b[39mb\u001b[39m\u001b[39m'\u001b[39m\u001b[39m<\u001b[39m\u001b[39m'\u001b[39m \u001b[39min\u001b[39;00m markup)\n\u001b[0;32m    <a href='file:///c%3A/Users/Opus/AppData/Local/Programs/Python/Python39/lib/site-packages/bs4/__init__.py?line=288'>289</a>\u001b[0m         \u001b[39mor\u001b[39;00m (\u001b[39misinstance\u001b[39m(markup, \u001b[39mstr\u001b[39m) \u001b[39mand\u001b[39;00m \u001b[39mnot\u001b[39;00m \u001b[39m'\u001b[39m\u001b[39m<\u001b[39m\u001b[39m'\u001b[39m \u001b[39min\u001b[39;00m markup)\n\u001b[1;32m   (...)\u001b[0m\n\u001b[0;32m    <a href='file:///c%3A/Users/Opus/AppData/Local/Programs/Python/Python39/lib/site-packages/bs4/__init__.py?line=292'>293</a>\u001b[0m     \u001b[39m# Beautiful Soup will still parse the input as markup,\u001b[39;00m\n\u001b[0;32m    <a href='file:///c%3A/Users/Opus/AppData/Local/Programs/Python/Python39/lib/site-packages/bs4/__init__.py?line=293'>294</a>\u001b[0m     \u001b[39m# just in case that's what the user really wants.\u001b[39;00m\n\u001b[0;32m    <a href='file:///c%3A/Users/Opus/AppData/Local/Programs/Python/Python39/lib/site-packages/bs4/__init__.py?line=294'>295</a>\u001b[0m     \u001b[39mif\u001b[39;00m (\u001b[39misinstance\u001b[39m(markup, \u001b[39mstr\u001b[39m)\n\u001b[0;32m    <a href='file:///c%3A/Users/Opus/AppData/Local/Programs/Python/Python39/lib/site-packages/bs4/__init__.py?line=295'>296</a>\u001b[0m         \u001b[39mand\u001b[39;00m \u001b[39mnot\u001b[39;00m os\u001b[39m.\u001b[39mpath\u001b[39m.\u001b[39msupports_unicode_filenames):\n",
      "\u001b[1;31mTypeError\u001b[0m: 'NoneType' object is not callable"
     ]
    }
   ],
   "source": [
    "soup=BeautifulSoup(posts[5],\"html.parser\")\n",
    "soup.find_all(\"div\",{\"class\":\"oajrlxb2 g5ia77u1 qu0x051f esr5mh6w e9989ue4 r7d6kgcz rq0escxv nhd2j8a9 nc684nl6 p7hjln8o kvgmc6g5 cxmmr5t8 oygrvhab hcukyx3x jb3vyjys rz4wbd8a qt6c0cv9 a8nywdso i1ao9s8h esuyzwwr f1sip0of lzcic4wl gpro0wi8 oo9gr5id lrazzd5p\"})"
   ]
  },
  {
   "cell_type": "code",
   "execution_count": 3,
   "metadata": {},
   "outputs": [],
   "source": [
    "all_posts=soup.find_all(\"div\",{\"class\":\"kvgmc6g5 cxmmr5t8 oygrvhab hcukyx3x c1et5uql ii04i59q\"})\n",
    "id_link = soup.find_all(\"a\",{\"class\":\"oajrlxb2 g5ia77u1 qu0x051f esr5mh6w e9989ue4 r7d6kgcz rq0escxv nhd2j8a9 nc684nl6 p7hjln8o kvgmc6g5 cxmmr5t8 oygrvhab hcukyx3x jb3vyjys rz4wbd8a qt6c0cv9 a8nywdso i1ao9s8h esuyzwwr f1sip0of lzcic4wl gpro0wi8 oo9gr5id lrazzd5p\"})"
   ]
  },
  {
   "cell_type": "code",
   "execution_count": 48,
   "metadata": {},
   "outputs": [
    {
     "data": {
      "text/plain": [
       "<div class=\"kvgmc6g5 cxmmr5t8 oygrvhab hcukyx3x c1et5uql ii04i59q\"><div dir=\"auto\" style=\"text-align: start;\">Opus Technology is looking for Unreal Game Developer for International Projects. The developer will be responsible for implementing key platform features in addition to solving important technical challenges throughout the development phase.</div></div>"
      ]
     },
     "execution_count": 48,
     "metadata": {},
     "output_type": "execute_result"
    }
   ],
   "source": [
    "all_posts[0]"
   ]
  },
  {
   "cell_type": "code",
   "execution_count": null,
   "metadata": {},
   "outputs": [],
   "source": [
    "for content in all_posts:\n",
    "    print(content.text)"
   ]
  },
  {
   "cell_type": "code",
   "execution_count": 23,
   "metadata": {},
   "outputs": [
    {
     "data": {
      "text/plain": [
       "29"
      ]
     },
     "execution_count": 23,
     "metadata": {},
     "output_type": "execute_result"
    }
   ],
   "source": [
    "len(all_posts)"
   ]
  },
  {
   "cell_type": "code",
   "execution_count": 15,
   "metadata": {},
   "outputs": [],
   "source": [
    "\n",
    "lnklst=[]\n",
    "for el in id_link:\n",
    "    lnklst.append(str(el['href']))"
   ]
  },
  {
   "cell_type": "code",
   "execution_count": null,
   "metadata": {},
   "outputs": [],
   "source": [
    "lnklst"
   ]
  },
  {
   "cell_type": "code",
   "execution_count": 6,
   "metadata": {},
   "outputs": [],
   "source": [
    "Name=[]\n",
    "Time=[]\n",
    "Post=[]\n",
    "for content in all_posts:\n",
    "    try:\n",
    "        Name.append(content.text.split('·')[0])\n",
    "        Time.append(content.text.split('·')[1])\n",
    "        Post.append(content.text.split('·')[2].split('Shared with Public')[1])\n",
    "    except:\n",
    "        continue\n",
    "\n",
    "browser.quit()\n",
    "Time=Time[:len(Post)]\n",
    "Name=Name[:len(Post)]"
   ]
  },
  {
   "cell_type": "code",
   "execution_count": 7,
   "metadata": {},
   "outputs": [],
   "source": [
    "df = pd.DataFrame(\n",
    "    {'Name': Name,\n",
    "     'Time': Time,\n",
    "     'Post': Post\n",
    "    })"
   ]
  },
  {
   "cell_type": "code",
   "execution_count": 8,
   "metadata": {},
   "outputs": [
    {
     "data": {
      "text/html": [
       "<div>\n",
       "<style scoped>\n",
       "    .dataframe tbody tr th:only-of-type {\n",
       "        vertical-align: middle;\n",
       "    }\n",
       "\n",
       "    .dataframe tbody tr th {\n",
       "        vertical-align: top;\n",
       "    }\n",
       "\n",
       "    .dataframe thead th {\n",
       "        text-align: right;\n",
       "    }\n",
       "</style>\n",
       "<table border=\"1\" class=\"dataframe\">\n",
       "  <thead>\n",
       "    <tr style=\"text-align: right;\">\n",
       "      <th></th>\n",
       "      <th>Name</th>\n",
       "      <th>Time</th>\n",
       "      <th>Post</th>\n",
       "    </tr>\n",
       "  </thead>\n",
       "  <tbody>\n",
       "  </tbody>\n",
       "</table>\n",
       "</div>"
      ],
      "text/plain": [
       "Empty DataFrame\n",
       "Columns: [Name, Time, Post]\n",
       "Index: []"
      ]
     },
     "execution_count": 8,
     "metadata": {},
     "output_type": "execute_result"
    }
   ],
   "source": [
    "df"
   ]
  },
  {
   "cell_type": "code",
   "execution_count": 9,
   "metadata": {},
   "outputs": [],
   "source": [
    "df.to_csv(\"Facebook_post.csv\", index=False)\n"
   ]
  },
  {
   "cell_type": "code",
   "execution_count": 10,
   "metadata": {},
   "outputs": [
    {
     "ename": "PermissionError",
     "evalue": "[Errno 13] Permission denied: 'scrape_image/opus technology/opus technology 1.jpg'",
     "output_type": "error",
     "traceback": [
      "\u001b[1;31m---------------------------------------------------------------------------\u001b[0m",
      "\u001b[1;31mPermissionError\u001b[0m                           Traceback (most recent call last)",
      "\u001b[1;32md:\\2022-works\\Social Media\\Facebook_Posts.ipynb Cell 10'\u001b[0m in \u001b[0;36m<module>\u001b[1;34m\u001b[0m\n\u001b[0;32m     <a href='vscode-notebook-cell:/d%3A/2022-works/Social%20Media/Facebook_Posts.ipynb#ch0000007?line=12'>13</a>\u001b[0m   os\u001b[39m.\u001b[39mmakedirs(Name,mode \u001b[39m=\u001b[39m \u001b[39m0o666\u001b[39m)\n\u001b[0;32m     <a href='vscode-notebook-cell:/d%3A/2022-works/Social%20Media/Facebook_Posts.ipynb#ch0000007?line=14'>15</a>\u001b[0m \u001b[39m#print((image_name+{i}).format(i))\u001b[39;00m\n\u001b[1;32m---> <a href='vscode-notebook-cell:/d%3A/2022-works/Social%20Media/Facebook_Posts.ipynb#ch0000007?line=16'>17</a>\u001b[0m \u001b[39mwith\u001b[39;00m \u001b[39mopen\u001b[39;49m(Name, \u001b[39m'\u001b[39;49m\u001b[39mwb\u001b[39;49m\u001b[39m'\u001b[39;49m) \u001b[39mas\u001b[39;00m f:\n\u001b[0;32m     <a href='vscode-notebook-cell:/d%3A/2022-works/Social%20Media/Facebook_Posts.ipynb#ch0000007?line=17'>18</a>\u001b[0m     \u001b[39mtry\u001b[39;00m:\n\u001b[0;32m     <a href='vscode-notebook-cell:/d%3A/2022-works/Social%20Media/Facebook_Posts.ipynb#ch0000007?line=18'>19</a>\u001b[0m         img \u001b[39m=\u001b[39m requests\u001b[39m.\u001b[39mget(link)\n",
      "\u001b[1;31mPermissionError\u001b[0m: [Errno 13] Permission denied: 'scrape_image/opus technology/opus technology 1.jpg'"
     ]
    }
   ],
   "source": [
    "import os\n",
    "all_photo=soup.find_all(\"img\")\n",
    "image_name= text\n",
    "\n",
    "#print(all_photo)\n",
    "i=0\n",
    "for photo in all_photo:\n",
    "    i+=1\n",
    "    link = photo['src']\n",
    "    #Name=f'scrape_image/{image_name}/{image_name} {i}.jpg'\n",
    "    Name=f'scrape_image/{image_name}/{image_name} {i}.jpg'\n",
    "    if not os.path.exists(Name):\n",
    "      os.makedirs(Name,mode = 0o666)\n",
    "\n",
    "    #print((image_name+{i}).format(i))\n",
    "    \n",
    "    with open(Name, 'wb') as f:\n",
    "        try:\n",
    "            img = requests.get(link)\n",
    "            f.write(img.content)\n",
    "        except:\n",
    "            continue"
   ]
  },
  {
   "cell_type": "code",
   "execution_count": null,
   "metadata": {},
   "outputs": [],
   "source": [
    "# //*[@id=\"mount_0_0_Fk\"]/div/div[1]/div/div[3]/div/div/div[1]/div[1]/div[2]/div/div/div/div/div/div[3]/div/div/div/div/div/div/div/div/div/div/div[2]\n",
    "# posts =driver.find_element_by_xpath(\"/html/body/form[1]\")"
   ]
  }
 ],
 "metadata": {
  "interpreter": {
   "hash": "f859088694f890412d5b77b4bafa824c48f630a6548e988ac412d37d2cd6011a"
  },
  "kernelspec": {
   "display_name": "Python 3.9.7 64-bit",
   "language": "python",
   "name": "python3"
  },
  "language_info": {
   "codemirror_mode": {
    "name": "ipython",
    "version": 3
   },
   "file_extension": ".py",
   "mimetype": "text/x-python",
   "name": "python",
   "nbconvert_exporter": "python",
   "pygments_lexer": "ipython3",
   "version": "3.9.7"
  },
  "orig_nbformat": 4
 },
 "nbformat": 4,
 "nbformat_minor": 2
}
