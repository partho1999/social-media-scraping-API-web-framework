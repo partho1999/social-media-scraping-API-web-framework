{
 "cells": [
  {
   "cell_type": "code",
   "execution_count": null,
   "metadata": {},
   "outputs": [],
   "source": [
    "import pandas as pd\n",
    "from facebook_scraper import get_profile"
   ]
  },
  {
   "cell_type": "code",
   "execution_count": 19,
   "metadata": {},
   "outputs": [
    {
     "ename": "AttributeError",
     "evalue": "'NoneType' object has no attribute 'attrs'",
     "output_type": "error",
     "traceback": [
      "\u001b[1;31m---------------------------------------------------------------------------\u001b[0m",
      "\u001b[1;31mAttributeError\u001b[0m                            Traceback (most recent call last)",
      "\u001b[1;32mc:\\Users\\Administrator\\Documents\\social_media_django_2.0\\API\\test.ipynb Cell 2'\u001b[0m in \u001b[0;36m<cell line: 4>\u001b[1;34m()\u001b[0m\n\u001b[0;32m      <a href='vscode-notebook-cell:/c%3A/Users/Administrator/Documents/social_media_django_2.0/API/test.ipynb#ch0000008?line=1'>2</a>\u001b[0m pro_df_full \u001b[39m=\u001b[39m pd\u001b[39m.\u001b[39mDataFrame(columns \u001b[39m=\u001b[39m [])\n\u001b[0;32m      <a href='vscode-notebook-cell:/c%3A/Users/Administrator/Documents/social_media_django_2.0/API/test.ipynb#ch0000008?line=2'>3</a>\u001b[0m text \u001b[39m=\u001b[39m \u001b[39m\"\u001b[39m\u001b[39mShaon.ComputerGeek\u001b[39m\u001b[39m\"\u001b[39m\n\u001b[1;32m----> <a href='vscode-notebook-cell:/c%3A/Users/Administrator/Documents/social_media_django_2.0/API/test.ipynb#ch0000008?line=3'>4</a>\u001b[0m profile \u001b[39m=\u001b[39m get_profile(text, cookies\u001b[39m=\u001b[39;49m\u001b[39m\"\u001b[39;49m\u001b[39mcookies.txt\u001b[39;49m\u001b[39m\"\u001b[39;49m)\n\u001b[0;32m      <a href='vscode-notebook-cell:/c%3A/Users/Administrator/Documents/social_media_django_2.0/API/test.ipynb#ch0000008?line=5'>6</a>\u001b[0m fb_pro_df \u001b[39m=\u001b[39m pd\u001b[39m.\u001b[39mDataFrame\u001b[39m.\u001b[39mfrom_dict(profile, orient\u001b[39m=\u001b[39m\u001b[39m'\u001b[39m\u001b[39mindex\u001b[39m\u001b[39m'\u001b[39m)\n\u001b[0;32m      <a href='vscode-notebook-cell:/c%3A/Users/Administrator/Documents/social_media_django_2.0/API/test.ipynb#ch0000008?line=6'>7</a>\u001b[0m fb_pro_df \u001b[39m=\u001b[39m fb_pro_df\u001b[39m.\u001b[39mtranspose()\n",
      "File \u001b[1;32mc:\\Users\\Administrator\\AppData\\Local\\Programs\\Python\\Python310\\lib\\site-packages\\facebook_scraper\\__init__.py:84\u001b[0m, in \u001b[0;36mget_profile\u001b[1;34m(account, **kwargs)\u001b[0m\n\u001b[0;32m     <a href='file:///c%3A/Users/Administrator/AppData/Local/Programs/Python/Python310/lib/site-packages/facebook_scraper/__init__.py?line=81'>82</a>\u001b[0m cookies \u001b[39m=\u001b[39m kwargs\u001b[39m.\u001b[39mpop(\u001b[39m'\u001b[39m\u001b[39mcookies\u001b[39m\u001b[39m'\u001b[39m, \u001b[39mNone\u001b[39;00m)\n\u001b[0;32m     <a href='file:///c%3A/Users/Administrator/AppData/Local/Programs/Python/Python310/lib/site-packages/facebook_scraper/__init__.py?line=82'>83</a>\u001b[0m set_cookies(cookies)\n\u001b[1;32m---> <a href='file:///c%3A/Users/Administrator/AppData/Local/Programs/Python/Python310/lib/site-packages/facebook_scraper/__init__.py?line=83'>84</a>\u001b[0m \u001b[39mreturn\u001b[39;00m _scraper\u001b[39m.\u001b[39mget_profile(account, \u001b[39m*\u001b[39m\u001b[39m*\u001b[39mkwargs)\n",
      "File \u001b[1;32mc:\\Users\\Administrator\\AppData\\Local\\Programs\\Python\\Python310\\lib\\site-packages\\facebook_scraper\\facebook_scraper.py:312\u001b[0m, in \u001b[0;36mFacebookScraper.get_profile\u001b[1;34m(self, account, **kwargs)\u001b[0m\n\u001b[0;32m    <a href='file:///c%3A/Users/Administrator/AppData/Local/Programs/Python/Python310/lib/site-packages/facebook_scraper/facebook_scraper.py?line=304'>305</a>\u001b[0m response \u001b[39m=\u001b[39m \u001b[39mself\u001b[39m\u001b[39m.\u001b[39mget(account)\n\u001b[0;32m    <a href='file:///c%3A/Users/Administrator/AppData/Local/Programs/Python/Python310/lib/site-packages/facebook_scraper/facebook_scraper.py?line=305'>306</a>\u001b[0m top_post \u001b[39m=\u001b[39m response\u001b[39m.\u001b[39mhtml\u001b[39m.\u001b[39mfind(\n\u001b[0;32m    <a href='file:///c%3A/Users/Administrator/AppData/Local/Programs/Python/Python310/lib/site-packages/facebook_scraper/facebook_scraper.py?line=306'>307</a>\u001b[0m     \u001b[39m'\u001b[39m\u001b[39m[data-ft*=\u001b[39m\u001b[39m\"\u001b[39m\u001b[39mtop_level_post_id\u001b[39m\u001b[39m\"\u001b[39m\u001b[39m]:not([data-sigil=\u001b[39m\u001b[39m\"\u001b[39m\u001b[39mm-see-translate-link\u001b[39m\u001b[39m\"\u001b[39m\u001b[39m])\u001b[39m\u001b[39m'\u001b[39m,\n\u001b[0;32m    <a href='file:///c%3A/Users/Administrator/AppData/Local/Programs/Python/Python310/lib/site-packages/facebook_scraper/facebook_scraper.py?line=307'>308</a>\u001b[0m     first\u001b[39m=\u001b[39m\u001b[39mTrue\u001b[39;00m,\n\u001b[0;32m    <a href='file:///c%3A/Users/Administrator/AppData/Local/Programs/Python/Python310/lib/site-packages/facebook_scraper/facebook_scraper.py?line=308'>309</a>\u001b[0m )\n\u001b[0;32m    <a href='file:///c%3A/Users/Administrator/AppData/Local/Programs/Python/Python310/lib/site-packages/facebook_scraper/facebook_scraper.py?line=309'>310</a>\u001b[0m result[\u001b[39m\"\u001b[39m\u001b[39mlatest_post_id\u001b[39m\u001b[39m\"\u001b[39m] \u001b[39m=\u001b[39m PostExtractor(\n\u001b[0;32m    <a href='file:///c%3A/Users/Administrator/AppData/Local/Programs/Python/Python310/lib/site-packages/facebook_scraper/facebook_scraper.py?line=310'>311</a>\u001b[0m     top_post, kwargs, \u001b[39mself\u001b[39;49m\u001b[39m.\u001b[39;49mget\n\u001b[1;32m--> <a href='file:///c%3A/Users/Administrator/AppData/Local/Programs/Python/Python310/lib/site-packages/facebook_scraper/facebook_scraper.py?line=311'>312</a>\u001b[0m )\u001b[39m.\u001b[39;49mextract_post_id()[\u001b[39m\"\u001b[39m\u001b[39mpost_id\u001b[39m\u001b[39m\"\u001b[39m]\n\u001b[0;32m    <a href='file:///c%3A/Users/Administrator/AppData/Local/Programs/Python/Python310/lib/site-packages/facebook_scraper/facebook_scraper.py?line=313'>314</a>\u001b[0m \u001b[39mtry\u001b[39;00m:\n\u001b[0;32m    <a href='file:///c%3A/Users/Administrator/AppData/Local/Programs/Python/Python310/lib/site-packages/facebook_scraper/facebook_scraper.py?line=314'>315</a>\u001b[0m     result[\u001b[39m\"\u001b[39m\u001b[39mFriend_count\u001b[39m\u001b[39m\"\u001b[39m] \u001b[39m=\u001b[39m utils\u001b[39m.\u001b[39mparse_int(\n\u001b[0;32m    <a href='file:///c%3A/Users/Administrator/AppData/Local/Programs/Python/Python310/lib/site-packages/facebook_scraper/facebook_scraper.py?line=315'>316</a>\u001b[0m         response\u001b[39m.\u001b[39mhtml\u001b[39m.\u001b[39mfind(\u001b[39m\"\u001b[39m\u001b[39ma[data-store*=\u001b[39m\u001b[39m'\u001b[39m\u001b[39mfriends\u001b[39m\u001b[39m'\u001b[39m\u001b[39m]>div>div\u001b[39m\u001b[39m\"\u001b[39m)[\u001b[39m-\u001b[39m\u001b[39m1\u001b[39m]\u001b[39m.\u001b[39mtext\u001b[39m.\u001b[39msplit()[\u001b[39m0\u001b[39m]\n\u001b[0;32m    <a href='file:///c%3A/Users/Administrator/AppData/Local/Programs/Python/Python310/lib/site-packages/facebook_scraper/facebook_scraper.py?line=316'>317</a>\u001b[0m     )\n",
      "File \u001b[1;32mc:\\Users\\Administrator\\AppData\\Local\\Programs\\Python\\Python310\\lib\\site-packages\\facebook_scraper\\extractors.py:248\u001b[0m, in \u001b[0;36mPostExtractor.extract_post_id\u001b[1;34m(self)\u001b[0m\n\u001b[0;32m    <a href='file:///c%3A/Users/Administrator/AppData/Local/Programs/Python/Python310/lib/site-packages/facebook_scraper/extractors.py?line=244'>245</a>\u001b[0m \u001b[39mdef\u001b[39;00m \u001b[39mextract_post_id\u001b[39m(\u001b[39mself\u001b[39m) \u001b[39m-\u001b[39m\u001b[39m>\u001b[39m PartialPost:\n\u001b[0;32m    <a href='file:///c%3A/Users/Administrator/AppData/Local/Programs/Python/Python310/lib/site-packages/facebook_scraper/extractors.py?line=245'>246</a>\u001b[0m     \u001b[39mreturn\u001b[39;00m {\n\u001b[0;32m    <a href='file:///c%3A/Users/Administrator/AppData/Local/Programs/Python/Python310/lib/site-packages/facebook_scraper/extractors.py?line=246'>247</a>\u001b[0m         \u001b[39m'\u001b[39m\u001b[39mpost_id\u001b[39m\u001b[39m'\u001b[39m: \u001b[39mself\u001b[39m\u001b[39m.\u001b[39mlive_data\u001b[39m.\u001b[39mget(\u001b[39m\"\u001b[39m\u001b[39mft_ent_identifier\u001b[39m\u001b[39m\"\u001b[39m)\n\u001b[1;32m--> <a href='file:///c%3A/Users/Administrator/AppData/Local/Programs/Python/Python310/lib/site-packages/facebook_scraper/extractors.py?line=247'>248</a>\u001b[0m         \u001b[39mor\u001b[39;00m \u001b[39mself\u001b[39;49m\u001b[39m.\u001b[39;49mdata_ft\u001b[39m.\u001b[39mget(\u001b[39m'\u001b[39m\u001b[39mtop_level_post_id\u001b[39m\u001b[39m'\u001b[39m)\n\u001b[0;32m    <a href='file:///c%3A/Users/Administrator/AppData/Local/Programs/Python/Python310/lib/site-packages/facebook_scraper/extractors.py?line=248'>249</a>\u001b[0m     }\n",
      "File \u001b[1;32mc:\\Users\\Administrator\\AppData\\Local\\Programs\\Python\\Python310\\lib\\site-packages\\facebook_scraper\\extractors.py:1286\u001b[0m, in \u001b[0;36mPostExtractor.data_ft\u001b[1;34m(self)\u001b[0m\n\u001b[0;32m   <a href='file:///c%3A/Users/Administrator/AppData/Local/Programs/Python/Python310/lib/site-packages/facebook_scraper/extractors.py?line=1283'>1284</a>\u001b[0m \u001b[39mself\u001b[39m\u001b[39m.\u001b[39m_data_ft \u001b[39m=\u001b[39m {}\n\u001b[0;32m   <a href='file:///c%3A/Users/Administrator/AppData/Local/Programs/Python/Python310/lib/site-packages/facebook_scraper/extractors.py?line=1284'>1285</a>\u001b[0m \u001b[39mtry\u001b[39;00m:\n\u001b[1;32m-> <a href='file:///c%3A/Users/Administrator/AppData/Local/Programs/Python/Python310/lib/site-packages/facebook_scraper/extractors.py?line=1285'>1286</a>\u001b[0m     data_ft_json \u001b[39m=\u001b[39m \u001b[39mself\u001b[39;49m\u001b[39m.\u001b[39;49melement\u001b[39m.\u001b[39;49mattrs[\u001b[39m'\u001b[39m\u001b[39mdata-ft\u001b[39m\u001b[39m'\u001b[39m]\u001b[39m.\u001b[39mreplace(\u001b[39m\"\u001b[39m\u001b[39m\\\\\u001b[39;00m\u001b[39m\\\\\u001b[39;00m\u001b[39m\"\u001b[39m, \u001b[39m\"\u001b[39m\u001b[39m\\\\\u001b[39;00m\u001b[39m\"\u001b[39m)\n\u001b[0;32m   <a href='file:///c%3A/Users/Administrator/AppData/Local/Programs/Python/Python310/lib/site-packages/facebook_scraper/extractors.py?line=1286'>1287</a>\u001b[0m     \u001b[39mself\u001b[39m\u001b[39m.\u001b[39m_data_ft \u001b[39m=\u001b[39m demjson\u001b[39m.\u001b[39mdecode(data_ft_json)\n\u001b[0;32m   <a href='file:///c%3A/Users/Administrator/AppData/Local/Programs/Python/Python310/lib/site-packages/facebook_scraper/extractors.py?line=1287'>1288</a>\u001b[0m \u001b[39mexcept\u001b[39;00m JSONDecodeError \u001b[39mas\u001b[39;00m ex:\n",
      "\u001b[1;31mAttributeError\u001b[0m: 'NoneType' object has no attribute 'attrs'"
     ]
    }
   ],
   "source": [
    "# Initialize dataframe to scrape Facebook post\n",
    "pro_df_full = pd.DataFrame(columns = [])\n",
    "text = \"Shaon.ComputerGeek\"\n",
    "profile = get_profile(text, cookies=\"cookies.txt\")\n",
    "\n",
    "fb_pro_df = pd.DataFrame.from_dict(profile, orient='index')\n",
    "fb_pro_df = fb_pro_df.transpose()\n",
    "pro_df_full = pro_df_full.append(fb_pro_df)\n",
    "pro_df_full.head(50)\n",
    "pro_df_full.to_csv(\"facebook.csv\", index= False)\n",
    "print(pro_df_full)\n"
   ]
  }
 ],
 "metadata": {
  "interpreter": {
   "hash": "f859088694f890412d5b77b4bafa824c48f630a6548e988ac412d37d2cd6011a"
  },
  "kernelspec": {
   "display_name": "Python 3.9.7 64-bit",
   "language": "python",
   "name": "python3"
  },
  "language_info": {
   "codemirror_mode": {
    "name": "ipython",
    "version": 3
   },
   "file_extension": ".py",
   "mimetype": "text/x-python",
   "name": "python",
   "nbconvert_exporter": "python",
   "pygments_lexer": "ipython3",
   "version": "3.9.7"
  },
  "orig_nbformat": 4
 },
 "nbformat": 4,
 "nbformat_minor": 2
}
