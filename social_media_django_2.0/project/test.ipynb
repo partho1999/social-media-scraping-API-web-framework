{
 "cells": [
  {
   "cell_type": "code",
   "execution_count": 1,
   "metadata": {},
   "outputs": [],
   "source": [
    "import os"
   ]
  },
  {
   "cell_type": "code",
   "execution_count": 2,
   "metadata": {},
   "outputs": [
    {
     "name": "stdout",
     "output_type": "stream",
     "text": [
      "Files and directories in ' facebook_csv/ ' :\n",
      "['03_04_2022-13_09_32-opus technology limited-partho.csv', '03_04_2022-13_13_46-covid-19-partho.csv', 'covid-19.csv', 'opus technology limited.csv']\n"
     ]
    }
   ],
   "source": [
    "# Get the list of all files and directories\n",
    "path = \"facebook_csv/\"\n",
    "dir_list = os.listdir(path)\n",
    "\n",
    "print(\"Files and directories in '\", path, \"' :\")\n",
    "\n",
    "# prints all files\n",
    "print(dir_list)"
   ]
  },
  {
   "cell_type": "code",
   "execution_count": 3,
   "metadata": {},
   "outputs": [
    {
     "name": "stdout",
     "output_type": "stream",
     "text": [
      "['03_04_2022-13_09_32-opus technology limited-partho.csv', '03_04_2022-13_13_46-covid-19-partho.csv']\n"
     ]
    }
   ],
   "source": [
    "username = \"partho\"\n",
    "#print(username)\n",
    "filtered_lst=[]\n",
    "for element in dir_list:\n",
    "    if username in element:\n",
    "        filtered_lst.append(element)\n",
    "\n",
    "#print filtered file\n",
    "print(filtered_lst)"
   ]
  },
  {
   "cell_type": "code",
   "execution_count": 11,
   "metadata": {},
   "outputs": [
    {
     "name": "stdout",
     "output_type": "stream",
     "text": [
      "opus technology limited\n",
      "covid\n"
     ]
    }
   ],
   "source": [
    "dates =[]\n",
    "times =[]\n",
    "keywords =[]\n",
    "\n",
    "\n",
    "for file in filtered_lst:\n",
    "    date = file.split(\"-\")[0]\n",
    "    dates.append(date)\n",
    "    time = file.split(\"-\")[1]\n",
    "    times.append(time)\n",
    "    keyword= file.split(\"-\")[2]\n",
    "    keywords.append(keyword)\n",
    "    \n"
   ]
  },
  {
   "cell_type": "code",
   "execution_count": null,
   "metadata": {},
   "outputs": [],
   "source": []
  }
 ],
 "metadata": {
  "interpreter": {
   "hash": "a0c73761719d425b2cb215bb8693e11bb404656c658de8c82d215c47a7c086c7"
  },
  "kernelspec": {
   "display_name": "Python 3.9.7 64-bit",
   "language": "python",
   "name": "python3"
  },
  "language_info": {
   "codemirror_mode": {
    "name": "ipython",
    "version": 3
   },
   "file_extension": ".py",
   "mimetype": "text/x-python",
   "name": "python",
   "nbconvert_exporter": "python",
   "pygments_lexer": "ipython3",
   "version": "3.9.7"
  },
  "orig_nbformat": 4
 },
 "nbformat": 4,
 "nbformat_minor": 2
}
