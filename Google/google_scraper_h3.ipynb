{
 "cells": [
  {
   "cell_type": "code",
   "execution_count": 2,
   "metadata": {},
   "outputs": [],
   "source": [
    "import pandas as pd\n",
    "import numpy as np\n",
    "import matplotlib\n",
    "from matplotlib import pyplot as plt\n",
    "%matplotlib inline\n",
    "import time\n",
    "import json\n",
    "import urllib.request\n",
    "from re import sub\n",
    "from numpy import array\n",
    "from bs4 import BeautifulSoup\n",
    "from datetime import datetime\n",
    "import requests  "
   ]
  },
  {
   "cell_type": "code",
   "execution_count": 7,
   "metadata": {},
   "outputs": [
    {
     "data": {
      "text/html": [
       "<div>\n",
       "<style scoped>\n",
       "    .dataframe tbody tr th:only-of-type {\n",
       "        vertical-align: middle;\n",
       "    }\n",
       "\n",
       "    .dataframe tbody tr th {\n",
       "        vertical-align: top;\n",
       "    }\n",
       "\n",
       "    .dataframe thead th {\n",
       "        text-align: right;\n",
       "    }\n",
       "</style>\n",
       "<table border=\"1\" class=\"dataframe\">\n",
       "  <thead>\n",
       "    <tr style=\"text-align: right;\">\n",
       "      <th></th>\n",
       "      <th>title</th>\n",
       "    </tr>\n",
       "  </thead>\n",
       "  <tbody>\n",
       "  </tbody>\n",
       "</table>\n",
       "</div>"
      ],
      "text/plain": [
       "Empty DataFrame\n",
       "Columns: [title]\n",
       "Index: []"
      ]
     },
     "execution_count": 7,
     "metadata": {},
     "output_type": "execute_result"
    }
   ],
   "source": [
    "url='https://www.google.com/search?q=robert+downey+jr&sxsrf=AOaemvKDDSLepQNQ8I9ANG_Dh45hRGapwg%3A1643092441294&ei=2ZnvYamjEZzM1sQPiN6GuAg&gs_ssp=eJzj4tTP1TcwNKsyyjJg9BIoyk9KLSpRSMkvz0utVMgqAgB_YQlX&oq=robert+&gs_lcp=Cgdnd3Mtd2l6EAEYAzIECC4QQzIHCC4QsQMQQzIHCC4QsQMQQzIICC4QgAQQsQMyBQgAEIAEMgUILhCABDIICC4QgAQQsQMyBQguEIAEMgUIABCABDIICC4QgAQQsQM6BwgjEOoCECc6DQguEMcBEKMCEOoCECc6CggAELEDEIMBEEM6EAguELEDEIMBEMcBENEDEEM6CwgAEIAEELEDEIMBOggIABCABBCxAzoECCMQJzoICAAQsQMQkQI6BQgAEJECOgUILhCxAzoECAAQQzoOCC4QgAQQsQMQxwEQ0QM6CgguEMcBENEDEEM6DgguEIAEELEDEMcBEKMCOggIABCABBDJA0oECEEYAEoECEYYAFAAWOqnAmCV0AJoBnACeAGAAZACiAH4EJIBBjAuMTAuMpgBAKABAbABCsABAQ&sclient=gws-wiz'\n",
    "title =[]\n",
    "r = requests.get(url)\n",
    "soup = BeautifulSoup(r.text, 'html.parser')\n",
    "# Audience Review\n",
    "audience_reviews = soup.findAll(\"h3\", {\"class\": \"LC20lb MBeuO DKV0Md\"})\n",
    "\n",
    "for review in audience_reviews:\n",
    "  print(review.text)\n",
    "  title.append(review.text)\n",
    "dct={'title':title}\n",
    "df= pd.DataFrame.from_dict(dct)\n",
    "df.head()"
   ]
  }
 ],
 "metadata": {
  "interpreter": {
   "hash": "07efdcd4b820c98a756949507a4d29d7862823915ec7477944641bea022f4f62"
  },
  "kernelspec": {
   "display_name": "Python 3.9.7 64-bit ('base': conda)",
   "language": "python",
   "name": "python3"
  },
  "language_info": {
   "codemirror_mode": {
    "name": "ipython",
    "version": 3
   },
   "file_extension": ".py",
   "mimetype": "text/x-python",
   "name": "python",
   "nbconvert_exporter": "python",
   "pygments_lexer": "ipython3",
   "version": "3.9.7"
  },
  "orig_nbformat": 4
 },
 "nbformat": 4,
 "nbformat_minor": 2
}
